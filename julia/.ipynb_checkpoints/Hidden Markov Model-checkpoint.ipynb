{
 "cells": [
  {
   "cell_type": "markdown",
   "metadata": {},
   "source": [
    "# Ensemble Learning of a Hidden Markov Model"
   ]
  },
  {
   "cell_type": "code",
   "execution_count": 1,
   "metadata": {},
   "outputs": [
    {
     "name": "stderr",
     "output_type": "stream",
     "text": [
      "\u001b[32m\u001b[1m  Activating\u001b[22m\u001b[39m new project at `C:\\Users\\the_m\\github\\activeInference\\julia`\n",
      "\u001b[32m\u001b[1m  No Changes\u001b[22m\u001b[39m to `C:\\Users\\the_m\\github\\activeInference\\julia\\Project.toml`\n",
      "\u001b[32m\u001b[1m  No Changes\u001b[22m\u001b[39m to `C:\\Users\\the_m\\github\\activeInference\\julia\\Manifest.toml`\n"
     ]
    }
   ],
   "source": [
    "# Activate local environment, see `Project.toml`\n",
    "import Pkg; Pkg.activate(\".\"); Pkg.instantiate(); "
   ]
  },
  {
   "cell_type": "markdown",
   "metadata": {},
   "source": [
    "In this demo we are interested in Bayesian inference of parameters of a hidden Markov model (HMM).,\n",
    "Specifically, we consider a first-order HMM with hidden states $s_0, s_1, \\dots, s_T$ and observations $x_1, \\dots, x_T$ governed by a state transition probability matrix $A$ and an observation probability matrix $B$:\n",
    "\n",
    "$$\\begin{aligned}\n",
    "    s_t & \\sim \\mathcal{C}at(A s_{t-1}),\\\\\n",
    "    x_t & \\sim \\mathcal{C}at(B s_t).\\\\\n",
    "\\end{aligned}$$\n",
    "\n",
    "\n",
    "We assume three possible states (\\\"red\\\", \\\"green\\\" and \\\"blue\\\"), and the goal is to estimate matrices $A$ and $B$ from a simulated data set. To have a full Bayesian treatment of the problem, both $A$ and $B$ are endowed with priors (Dirichlet distributions on the columns).\""
   ]
  },
  {
   "cell_type": "code",
   "execution_count": 2,
   "metadata": {},
   "outputs": [
    {
     "ename": "LoadError",
     "evalue": "ArgumentError: Package BenchmarkTools not found in current path:\n- Run `import Pkg; Pkg.add(\"BenchmarkTools\")` to install the BenchmarkTools package.\n",
     "output_type": "error",
     "traceback": [
      "ArgumentError: Package BenchmarkTools not found in current path:\n- Run `import Pkg; Pkg.add(\"BenchmarkTools\")` to install the BenchmarkTools package.\n",
      "",
      "Stacktrace:",
      " [1] require(into::Module, mod::Symbol)",
      "   @ Base .\\loading.jl:967",
      " [2] eval",
      "   @ .\\boot.jl:373 [inlined]",
      " [3] include_string(mapexpr::typeof(REPL.softscope), mod::Module, code::String, filename::String)",
      "   @ Base .\\loading.jl:1196"
     ]
    }
   ],
   "source": [
    "using RxInfer, Random, BenchmarkTools, Distributions, LinearAlgebra, Plots"
   ]
  },
  {
   "cell_type": "code",
   "execution_count": 3,
   "metadata": {},
   "outputs": [
    {
     "data": {
      "text/plain": [
       "generate_data (generic function with 1 method)"
      ]
     },
     "execution_count": 3,
     "metadata": {},
     "output_type": "execute_result"
    }
   ],
   "source": [
    "function rand_vec(rng, distribution::Categorical) \n",
    "    k = ncategories(distribution)\n",
    "    s = zeros(k)\n",
    "    s[ rand(rng, distribution) ] = 1.0\n",
    "    s\n",
    "end\n",
    "\n",
    "function generate_data(n_samples; seed = 124)\n",
    "    \n",
    "    rng = MersenneTwister(seed)\n",
    "    \n",
    "    # Transition probabilities (some transitions are impossible)\n",
    "    A = [0.9 0.0 0.1; 0.1 0.9 0.0; 0.0 0.1 0.9] \n",
    "    # Observation noise\n",
    "    B = [0.9 0.05 0.05; 0.05 0.9 0.05; 0.05 0.05 0.9] \n",
    "    # Initial state\n",
    "    s_0 = [1.0, 0.0, 0.0] \n",
    "    # Generate some data\n",
    "    s = Vector{Vector{Float64}}(undef, n_samples) # one-hot encoding of the states\n",
    "    x = Vector{Vector{Float64}}(undef, n_samples) # one-hot encoding of the observations\n",
    "    \n",
    "    s_prev = s_0\n",
    "    \n",
    "    for t = 1:n_samples\n",
    "        a = A * s_prev\n",
    "        s[t] = rand_vec(rng, Categorical(a ./ sum(a)))\n",
    "        b = B * s[t]\n",
    "        x[t] = rand_vec(rng, Categorical(b ./ sum(b)))\n",
    "        s_prev = s[t]\n",
    "    end\n",
    "    \n",
    "    return x, s\n",
    "end"
   ]
  },
  {
   "cell_type": "code",
   "execution_count": 4,
   "metadata": {},
   "outputs": [],
   "source": [
    "# Test data\n",
    "N = 100\n",
    "x_data, s_data = generate_data(N);"
   ]
  },
  {
   "cell_type": "code",
   "execution_count": 5,
   "metadata": {},
   "outputs": [
    {
     "ename": "LoadError",
     "evalue": "UndefVarError: scatter not defined",
     "output_type": "error",
     "traceback": [
      "UndefVarError: scatter not defined",
      "",
      "Stacktrace:",
      " [1] top-level scope",
      "   @ In[5]:1",
      " [2] eval",
      "   @ .\\boot.jl:373 [inlined]",
      " [3] include_string(mapexpr::typeof(REPL.softscope), mod::Module, code::String, filename::String)",
      "   @ Base .\\loading.jl:1196"
     ]
    }
   ],
   "source": [
    "scatter(argmax.(s_data))"
   ]
  },
  {
   "cell_type": "code",
   "execution_count": null,
   "metadata": {},
   "outputs": [],
   "source": [
    "# Model specification\n",
    "@model function hidden_markov_model(n)\n",
    "    \n",
    "    A ~ MatrixDirichlet(ones(3, 3)) \n",
    "    B ~ MatrixDirichlet([ 10.0 1.0 1.0; 1.0 10.0 1.0; 1.0 1.0 10.0 ])\n",
    "    \n",
    "    s_0 ~ Categorical(fill(1.0 / 3.0, 3))\n",
    "    \n",
    "    s = randomvar(n)\n",
    "    x = datavar(Vector{Float64}, n)\n",
    "    \n",
    "    s_prev = s_0\n",
    "    \n",
    "    for t in 1:n\n",
    "        s[t] ~ Transition(s_prev, A) \n",
    "        x[t] ~ Transition(s[t], B)\n",
    "        s_prev = s[t]\n",
    "    end\n",
    "    \n",
    "end\n",
    "\n",
    "@constraints function hidden_markov_model_constraints()\n",
    "    q(s_0, s, A, B) = q(s_0, s)q(A)q(B)\n",
    "end"
   ]
  },
  {
   "cell_type": "code",
   "execution_count": null,
   "metadata": {},
   "outputs": [],
   "source": [
    "idata = (x = x_data, )\n",
    "\n",
    "imodel = hidden_markov_model(N)\n",
    "\n",
    "imarginals = (\n",
    "    A = vague(MatrixDirichlet, 3, 3), \n",
    "    B = vague(MatrixDirichlet, 3, 3), \n",
    "    s = vague(Categorical, 3)\n",
    ")\n",
    "\n",
    "ireturnvars = (\n",
    "    A = KeepLast(),\n",
    "    B = KeepLast(),\n",
    "    s = KeepLast()\n",
    ")\n",
    "\n",
    "result = inference(\n",
    "    model         = imodel, \n",
    "    data          = idata,\n",
    "    constraints   = hidden_markov_model_constraints(),\n",
    "    initmarginals = imarginals, \n",
    "    returnvars    = ireturnvars, \n",
    "    iterations    = 20, \n",
    "    free_energy   = true\n",
    ");"
   ]
  },
  {
   "cell_type": "code",
   "execution_count": null,
   "metadata": {},
   "outputs": [],
   "source": [
    "mean(result.posteriors[:A])"
   ]
  },
  {
   "cell_type": "code",
   "execution_count": null,
   "metadata": {},
   "outputs": [],
   "source": [
    "mean(result.posteriors[:B])"
   ]
  },
  {
   "cell_type": "code",
   "execution_count": null,
   "metadata": {},
   "outputs": [],
   "source": [
    "p1 = scatter(argmax.(s_data), title=\"Inference results\", label = \"real\", ms = 6)\n",
    "p1 = scatter!(p1, argmax.(ReactiveMP.probvec.(result.posteriors[:s])), label = \"inferred\", ms = 2)\n",
    "p2 = plot(result.free_energy, label=\"Free energy\")\n",
    "\n",
    "plot(p1, p2, layout = @layout([ a; b ]))"
   ]
  },
  {
   "cell_type": "markdown",
   "metadata": {},
   "source": [
    "# Benchmark timings"
   ]
  },
  {
   "cell_type": "code",
   "execution_count": null,
   "metadata": {},
   "outputs": [],
   "source": [
    "@benchmark inference(\n",
    "    model         = $imodel, \n",
    "    data          = $idata,\n",
    "    constraints   = hidden_markov_model_constraints(),\n",
    "    initmarginals = $imarginals, \n",
    "    returnvars    = $ireturnvars, \n",
    "    iterations    = 20, \n",
    "    free_energy   = true\n",
    ")"
   ]
  }
 ],
 "metadata": {
  "kernelspec": {
   "display_name": "Julia 1.7.2",
   "language": "julia",
   "name": "julia-1.7"
  },
  "language_info": {
   "file_extension": ".jl",
   "mimetype": "application/julia",
   "name": "julia",
   "version": "1.7.2"
  }
 },
 "nbformat": 4,
 "nbformat_minor": 4
}
