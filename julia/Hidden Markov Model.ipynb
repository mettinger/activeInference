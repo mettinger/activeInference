{
 "cells": [
  {
   "cell_type": "markdown",
   "metadata": {},
   "source": [
    "# Ensemble Learning of a Hidden Markov Model"
   ]
  },
  {
   "cell_type": "code",
   "execution_count": 1,
   "metadata": {},
   "outputs": [
    {
     "name": "stderr",
     "output_type": "stream",
     "text": [
      "\u001b[32m\u001b[1m  Activating\u001b[22m\u001b[39m new project at `C:\\Users\\the_m\\github\\activeInference\\julia`\n"
     ]
    }
   ],
   "source": [
    "# Activate local environment, see `Project.toml`\n",
    "import Pkg; Pkg.activate(\".\"); Pkg.instantiate(); "
   ]
  },
  {
   "cell_type": "markdown",
   "metadata": {},
   "source": [
    "In this demo we are interested in Bayesian inference of parameters of a hidden Markov model (HMM).,\n",
    "Specifically, we consider a first-order HMM with hidden states $s_0, s_1, \\dots, s_T$ and observations $x_1, \\dots, x_T$ governed by a state transition probability matrix $A$ and an observation probability matrix $B$:\n",
    "\n",
    "$$\\begin{aligned}\n",
    "    s_t & \\sim \\mathcal{C}at(A s_{t-1}),\\\\\n",
    "    x_t & \\sim \\mathcal{C}at(B s_t).\\\\\n",
    "\\end{aligned}$$\n",
    "\n",
    "\n",
    "We assume three possible states (\\\"red\\\", \\\"green\\\" and \\\"blue\\\"), and the goal is to estimate matrices $A$ and $B$ from a simulated data set. To have a full Bayesian treatment of the problem, both $A$ and $B$ are endowed with priors (Dirichlet distributions on the columns).\""
   ]
  },
  {
   "cell_type": "code",
   "execution_count": 3,
   "metadata": {},
   "outputs": [],
   "source": [
    "using RxInfer, Random, BenchmarkTools, Distributions, LinearAlgebra, Plots"
   ]
  },
  {
   "cell_type": "code",
   "execution_count": 4,
   "metadata": {},
   "outputs": [
    {
     "data": {
      "text/plain": [
       "generate_data (generic function with 1 method)"
      ]
     },
     "execution_count": 4,
     "metadata": {},
     "output_type": "execute_result"
    }
   ],
   "source": [
    "function rand_vec(rng, distribution::Categorical) \n",
    "    k = ncategories(distribution)\n",
    "    s = zeros(k)\n",
    "    s[ rand(rng, distribution) ] = 1.0\n",
    "    s\n",
    "end\n",
    "\n",
    "function generate_data(n_samples; seed = 124)\n",
    "    \n",
    "    rng = MersenneTwister(seed)\n",
    "    \n",
    "    # Transition probabilities (some transitions are impossible)\n",
    "    A = [0.9 0.0 0.1; 0.1 0.9 0.0; 0.0 0.1 0.9] \n",
    "    # Observation noise\n",
    "    B = [0.9 0.05 0.05; 0.05 0.9 0.05; 0.05 0.05 0.9] \n",
    "    # Initial state\n",
    "    s_0 = [1.0, 0.0, 0.0] \n",
    "    # Generate some data\n",
    "    s = Vector{Vector{Float64}}(undef, n_samples) # one-hot encoding of the states\n",
    "    x = Vector{Vector{Float64}}(undef, n_samples) # one-hot encoding of the observations\n",
    "    \n",
    "    s_prev = s_0\n",
    "    \n",
    "    for t = 1:n_samples\n",
    "        a = A * s_prev\n",
    "        s[t] = rand_vec(rng, Categorical(a ./ sum(a)))\n",
    "        b = B * s[t]\n",
    "        x[t] = rand_vec(rng, Categorical(b ./ sum(b)))\n",
    "        s_prev = s[t]\n",
    "    end\n",
    "    \n",
    "    return x, s\n",
    "end"
   ]
  },
  {
   "cell_type": "code",
   "execution_count": 5,
   "metadata": {},
   "outputs": [],
   "source": [
    "# Test data\n",
    "N = 100\n",
    "x_data, s_data = generate_data(N);"
   ]
  },
  {
   "cell_type": "code",
   "execution_count": 6,
   "metadata": {},
   "outputs": [
    {
     "data": {
      "image/svg+xml": [
       "<?xml version=\"1.0\" encoding=\"utf-8\"?>\n",
       "<svg xmlns=\"http://www.w3.org/2000/svg\" xmlns:xlink=\"http://www.w3.org/1999/xlink\" width=\"600\" height=\"400\" viewBox=\"0 0 2400 1600\">\n",
       "<defs>\n",
       "  <clipPath id=\"clip090\">\n",
       "    <rect x=\"0\" y=\"0\" width=\"2400\" height=\"1600\"/>\n",
       "  </clipPath>\n",
       "</defs>\n",
       "<path clip-path=\"url(#clip090)\" d=\"\n",
       "M0 1600 L2400 1600 L2400 0 L0 0  Z\n",
       "  \" fill=\"#ffffff\" fill-rule=\"evenodd\" fill-opacity=\"1\"/>\n",
       "<defs>\n",
       "  <clipPath id=\"clip091\">\n",
       "    <rect x=\"480\" y=\"0\" width=\"1681\" height=\"1600\"/>\n",
       "  </clipPath>\n",
       "</defs>\n",
       "<path clip-path=\"url(#clip090)\" d=\"\n",
       "M155.765 1486.45 L2352.76 1486.45 L2352.76 47.2441 L155.765 47.2441  Z\n",
       "  \" fill=\"#ffffff\" fill-rule=\"evenodd\" fill-opacity=\"1\"/>\n",
       "<defs>\n",
       "  <clipPath id=\"clip092\">\n",
       "    <rect x=\"155\" y=\"47\" width=\"2198\" height=\"1440\"/>\n",
       "  </clipPath>\n",
       "</defs>\n",
       "<polyline clip-path=\"url(#clip092)\" style=\"stroke:#000000; stroke-linecap:round; stroke-linejoin:round; stroke-width:2; stroke-opacity:0.1; fill:none\" points=\"\n",
       "  197.008,1486.45 197.008,47.2441 \n",
       "  \"/>\n",
       "<polyline clip-path=\"url(#clip092)\" style=\"stroke:#000000; stroke-linecap:round; stroke-linejoin:round; stroke-width:2; stroke-opacity:0.1; fill:none\" points=\"\n",
       "  720.4,1486.45 720.4,47.2441 \n",
       "  \"/>\n",
       "<polyline clip-path=\"url(#clip092)\" style=\"stroke:#000000; stroke-linecap:round; stroke-linejoin:round; stroke-width:2; stroke-opacity:0.1; fill:none\" points=\"\n",
       "  1243.79,1486.45 1243.79,47.2441 \n",
       "  \"/>\n",
       "<polyline clip-path=\"url(#clip092)\" style=\"stroke:#000000; stroke-linecap:round; stroke-linejoin:round; stroke-width:2; stroke-opacity:0.1; fill:none\" points=\"\n",
       "  1767.18,1486.45 1767.18,47.2441 \n",
       "  \"/>\n",
       "<polyline clip-path=\"url(#clip092)\" style=\"stroke:#000000; stroke-linecap:round; stroke-linejoin:round; stroke-width:2; stroke-opacity:0.1; fill:none\" points=\"\n",
       "  2290.58,1486.45 2290.58,47.2441 \n",
       "  \"/>\n",
       "<polyline clip-path=\"url(#clip090)\" style=\"stroke:#000000; stroke-linecap:round; stroke-linejoin:round; stroke-width:4; stroke-opacity:1; fill:none\" points=\"\n",
       "  155.765,1486.45 2352.76,1486.45 \n",
       "  \"/>\n",
       "<polyline clip-path=\"url(#clip090)\" style=\"stroke:#000000; stroke-linecap:round; stroke-linejoin:round; stroke-width:4; stroke-opacity:1; fill:none\" points=\"\n",
       "  197.008,1486.45 197.008,1467.55 \n",
       "  \"/>\n",
       "<polyline clip-path=\"url(#clip090)\" style=\"stroke:#000000; stroke-linecap:round; stroke-linejoin:round; stroke-width:4; stroke-opacity:1; fill:none\" points=\"\n",
       "  720.4,1486.45 720.4,1467.55 \n",
       "  \"/>\n",
       "<polyline clip-path=\"url(#clip090)\" style=\"stroke:#000000; stroke-linecap:round; stroke-linejoin:round; stroke-width:4; stroke-opacity:1; fill:none\" points=\"\n",
       "  1243.79,1486.45 1243.79,1467.55 \n",
       "  \"/>\n",
       "<polyline clip-path=\"url(#clip090)\" style=\"stroke:#000000; stroke-linecap:round; stroke-linejoin:round; stroke-width:4; stroke-opacity:1; fill:none\" points=\"\n",
       "  1767.18,1486.45 1767.18,1467.55 \n",
       "  \"/>\n",
       "<polyline clip-path=\"url(#clip090)\" style=\"stroke:#000000; stroke-linecap:round; stroke-linejoin:round; stroke-width:4; stroke-opacity:1; fill:none\" points=\"\n",
       "  2290.58,1486.45 2290.58,1467.55 \n",
       "  \"/>\n",
       "<path clip-path=\"url(#clip090)\" d=\"M197.008 1517.37 Q193.397 1517.37 191.568 1520.93 Q189.763 1524.47 189.763 1531.6 Q189.763 1538.71 191.568 1542.27 Q193.397 1545.82 197.008 1545.82 Q200.642 1545.82 202.448 1542.27 Q204.277 1538.71 204.277 1531.6 Q204.277 1524.47 202.448 1520.93 Q200.642 1517.37 197.008 1517.37 M197.008 1513.66 Q202.818 1513.66 205.874 1518.27 Q208.953 1522.85 208.953 1531.6 Q208.953 1540.33 205.874 1544.94 Q202.818 1549.52 197.008 1549.52 Q191.198 1549.52 188.119 1544.94 Q185.064 1540.33 185.064 1531.6 Q185.064 1522.85 188.119 1518.27 Q191.198 1513.66 197.008 1513.66 Z\" fill=\"#000000\" fill-rule=\"evenodd\" fill-opacity=\"1\" /><path clip-path=\"url(#clip090)\" d=\"M699.671 1544.91 L715.991 1544.91 L715.991 1548.85 L694.046 1548.85 L694.046 1544.91 Q696.708 1542.16 701.292 1537.53 Q705.898 1532.88 707.079 1531.53 Q709.324 1529.01 710.204 1527.27 Q711.106 1525.51 711.106 1523.82 Q711.106 1521.07 709.162 1519.33 Q707.241 1517.6 704.139 1517.6 Q701.94 1517.6 699.486 1518.36 Q697.056 1519.13 694.278 1520.68 L694.278 1515.95 Q697.102 1514.82 699.556 1514.24 Q702.009 1513.66 704.046 1513.66 Q709.417 1513.66 712.611 1516.35 Q715.806 1519.03 715.806 1523.52 Q715.806 1525.65 714.995 1527.57 Q714.208 1529.47 712.102 1532.07 Q711.523 1532.74 708.421 1535.95 Q705.319 1539.15 699.671 1544.91 Z\" fill=\"#000000\" fill-rule=\"evenodd\" fill-opacity=\"1\" /><path clip-path=\"url(#clip090)\" d=\"M725.852 1514.29 L744.208 1514.29 L744.208 1518.22 L730.134 1518.22 L730.134 1526.7 Q731.153 1526.35 732.171 1526.19 Q733.19 1526 734.208 1526 Q739.995 1526 743.375 1529.17 Q746.754 1532.34 746.754 1537.76 Q746.754 1543.34 743.282 1546.44 Q739.81 1549.52 733.491 1549.52 Q731.315 1549.52 729.046 1549.15 Q726.801 1548.78 724.393 1548.04 L724.393 1543.34 Q726.477 1544.47 728.699 1545.03 Q730.921 1545.58 733.398 1545.58 Q737.403 1545.58 739.741 1543.48 Q742.079 1541.37 742.079 1537.76 Q742.079 1534.15 739.741 1532.04 Q737.403 1529.94 733.398 1529.94 Q731.523 1529.94 729.648 1530.35 Q727.796 1530.77 725.852 1531.65 L725.852 1514.29 Z\" fill=\"#000000\" fill-rule=\"evenodd\" fill-opacity=\"1\" /><path clip-path=\"url(#clip090)\" d=\"M1218.49 1514.29 L1236.85 1514.29 L1236.85 1518.22 L1222.77 1518.22 L1222.77 1526.7 Q1223.79 1526.35 1224.81 1526.19 Q1225.83 1526 1226.85 1526 Q1232.64 1526 1236.01 1529.17 Q1239.39 1532.34 1239.39 1537.76 Q1239.39 1543.34 1235.92 1546.44 Q1232.45 1549.52 1226.13 1549.52 Q1223.95 1549.52 1221.69 1549.15 Q1219.44 1548.78 1217.03 1548.04 L1217.03 1543.34 Q1219.12 1544.47 1221.34 1545.03 Q1223.56 1545.58 1226.04 1545.58 Q1230.04 1545.58 1232.38 1543.48 Q1234.72 1541.37 1234.72 1537.76 Q1234.72 1534.15 1232.38 1532.04 Q1230.04 1529.94 1226.04 1529.94 Q1224.16 1529.94 1222.29 1530.35 Q1220.44 1530.77 1218.49 1531.65 L1218.49 1514.29 Z\" fill=\"#000000\" fill-rule=\"evenodd\" fill-opacity=\"1\" /><path clip-path=\"url(#clip090)\" d=\"M1258.61 1517.37 Q1255 1517.37 1253.17 1520.93 Q1251.36 1524.47 1251.36 1531.6 Q1251.36 1538.71 1253.17 1542.27 Q1255 1545.82 1258.61 1545.82 Q1262.24 1545.82 1264.05 1542.27 Q1265.88 1538.71 1265.88 1531.6 Q1265.88 1524.47 1264.05 1520.93 Q1262.24 1517.37 1258.61 1517.37 M1258.61 1513.66 Q1264.42 1513.66 1267.47 1518.27 Q1270.55 1522.85 1270.55 1531.6 Q1270.55 1540.33 1267.47 1544.94 Q1264.42 1549.52 1258.61 1549.52 Q1252.8 1549.52 1249.72 1544.94 Q1246.66 1540.33 1246.66 1531.6 Q1246.66 1522.85 1249.72 1518.27 Q1252.8 1513.66 1258.61 1513.66 Z\" fill=\"#000000\" fill-rule=\"evenodd\" fill-opacity=\"1\" /><path clip-path=\"url(#clip090)\" d=\"M1741.04 1514.29 L1763.26 1514.29 L1763.26 1516.28 L1750.71 1548.85 L1745.83 1548.85 L1757.64 1518.22 L1741.04 1518.22 L1741.04 1514.29 Z\" fill=\"#000000\" fill-rule=\"evenodd\" fill-opacity=\"1\" /><path clip-path=\"url(#clip090)\" d=\"M1772.43 1514.29 L1790.78 1514.29 L1790.78 1518.22 L1776.71 1518.22 L1776.71 1526.7 Q1777.73 1526.35 1778.75 1526.19 Q1779.77 1526 1780.78 1526 Q1786.57 1526 1789.95 1529.17 Q1793.33 1532.34 1793.33 1537.76 Q1793.33 1543.34 1789.86 1546.44 Q1786.39 1549.52 1780.07 1549.52 Q1777.89 1549.52 1775.62 1549.15 Q1773.38 1548.78 1770.97 1548.04 L1770.97 1543.34 Q1773.05 1544.47 1775.27 1545.03 Q1777.5 1545.58 1779.97 1545.58 Q1783.98 1545.58 1786.32 1543.48 Q1788.65 1541.37 1788.65 1537.76 Q1788.65 1534.15 1786.32 1532.04 Q1783.98 1529.94 1779.97 1529.94 Q1778.1 1529.94 1776.22 1530.35 Q1774.37 1530.77 1772.43 1531.65 L1772.43 1514.29 Z\" fill=\"#000000\" fill-rule=\"evenodd\" fill-opacity=\"1\" /><path clip-path=\"url(#clip090)\" d=\"M2250.18 1544.91 L2257.82 1544.91 L2257.82 1518.55 L2249.51 1520.21 L2249.51 1515.95 L2257.78 1514.29 L2262.45 1514.29 L2262.45 1544.91 L2270.09 1544.91 L2270.09 1548.85 L2250.18 1548.85 L2250.18 1544.91 Z\" fill=\"#000000\" fill-rule=\"evenodd\" fill-opacity=\"1\" /><path clip-path=\"url(#clip090)\" d=\"M2289.54 1517.37 Q2285.92 1517.37 2284.1 1520.93 Q2282.29 1524.47 2282.29 1531.6 Q2282.29 1538.71 2284.1 1542.27 Q2285.92 1545.82 2289.54 1545.82 Q2293.17 1545.82 2294.98 1542.27 Q2296.8 1538.71 2296.8 1531.6 Q2296.8 1524.47 2294.98 1520.93 Q2293.17 1517.37 2289.54 1517.37 M2289.54 1513.66 Q2295.35 1513.66 2298.4 1518.27 Q2301.48 1522.85 2301.48 1531.6 Q2301.48 1540.33 2298.4 1544.94 Q2295.35 1549.52 2289.54 1549.52 Q2283.73 1549.52 2280.65 1544.94 Q2277.59 1540.33 2277.59 1531.6 Q2277.59 1522.85 2280.65 1518.27 Q2283.73 1513.66 2289.54 1513.66 Z\" fill=\"#000000\" fill-rule=\"evenodd\" fill-opacity=\"1\" /><path clip-path=\"url(#clip090)\" d=\"M2319.7 1517.37 Q2316.09 1517.37 2314.26 1520.93 Q2312.45 1524.47 2312.45 1531.6 Q2312.45 1538.71 2314.26 1542.27 Q2316.09 1545.82 2319.7 1545.82 Q2323.33 1545.82 2325.14 1542.27 Q2326.97 1538.71 2326.97 1531.6 Q2326.97 1524.47 2325.14 1520.93 Q2323.33 1517.37 2319.7 1517.37 M2319.7 1513.66 Q2325.51 1513.66 2328.56 1518.27 Q2331.64 1522.85 2331.64 1531.6 Q2331.64 1540.33 2328.56 1544.94 Q2325.51 1549.52 2319.7 1549.52 Q2313.89 1549.52 2310.81 1544.94 Q2307.75 1540.33 2307.75 1531.6 Q2307.75 1522.85 2310.81 1518.27 Q2313.89 1513.66 2319.7 1513.66 Z\" fill=\"#000000\" fill-rule=\"evenodd\" fill-opacity=\"1\" /><polyline clip-path=\"url(#clip092)\" style=\"stroke:#000000; stroke-linecap:round; stroke-linejoin:round; stroke-width:2; stroke-opacity:0.1; fill:none\" points=\"\n",
       "  155.765,1445.72 2352.76,1445.72 \n",
       "  \"/>\n",
       "<polyline clip-path=\"url(#clip092)\" style=\"stroke:#000000; stroke-linecap:round; stroke-linejoin:round; stroke-width:2; stroke-opacity:0.1; fill:none\" points=\"\n",
       "  155.765,1106.28 2352.76,1106.28 \n",
       "  \"/>\n",
       "<polyline clip-path=\"url(#clip092)\" style=\"stroke:#000000; stroke-linecap:round; stroke-linejoin:round; stroke-width:2; stroke-opacity:0.1; fill:none\" points=\"\n",
       "  155.765,766.846 2352.76,766.846 \n",
       "  \"/>\n",
       "<polyline clip-path=\"url(#clip092)\" style=\"stroke:#000000; stroke-linecap:round; stroke-linejoin:round; stroke-width:2; stroke-opacity:0.1; fill:none\" points=\"\n",
       "  155.765,427.411 2352.76,427.411 \n",
       "  \"/>\n",
       "<polyline clip-path=\"url(#clip092)\" style=\"stroke:#000000; stroke-linecap:round; stroke-linejoin:round; stroke-width:2; stroke-opacity:0.1; fill:none\" points=\"\n",
       "  155.765,87.9763 2352.76,87.9763 \n",
       "  \"/>\n",
       "<polyline clip-path=\"url(#clip090)\" style=\"stroke:#000000; stroke-linecap:round; stroke-linejoin:round; stroke-width:4; stroke-opacity:1; fill:none\" points=\"\n",
       "  155.765,1486.45 155.765,47.2441 \n",
       "  \"/>\n",
       "<polyline clip-path=\"url(#clip090)\" style=\"stroke:#000000; stroke-linecap:round; stroke-linejoin:round; stroke-width:4; stroke-opacity:1; fill:none\" points=\"\n",
       "  155.765,1445.72 174.663,1445.72 \n",
       "  \"/>\n",
       "<polyline clip-path=\"url(#clip090)\" style=\"stroke:#000000; stroke-linecap:round; stroke-linejoin:round; stroke-width:4; stroke-opacity:1; fill:none\" points=\"\n",
       "  155.765,1106.28 174.663,1106.28 \n",
       "  \"/>\n",
       "<polyline clip-path=\"url(#clip090)\" style=\"stroke:#000000; stroke-linecap:round; stroke-linejoin:round; stroke-width:4; stroke-opacity:1; fill:none\" points=\"\n",
       "  155.765,766.846 174.663,766.846 \n",
       "  \"/>\n",
       "<polyline clip-path=\"url(#clip090)\" style=\"stroke:#000000; stroke-linecap:round; stroke-linejoin:round; stroke-width:4; stroke-opacity:1; fill:none\" points=\"\n",
       "  155.765,427.411 174.663,427.411 \n",
       "  \"/>\n",
       "<polyline clip-path=\"url(#clip090)\" style=\"stroke:#000000; stroke-linecap:round; stroke-linejoin:round; stroke-width:4; stroke-opacity:1; fill:none\" points=\"\n",
       "  155.765,87.9763 174.663,87.9763 \n",
       "  \"/>\n",
       "<path clip-path=\"url(#clip090)\" d=\"M53.3995 1459.06 L61.0384 1459.06 L61.0384 1432.69 L52.7282 1434.36 L52.7282 1430.1 L60.9921 1428.44 L65.668 1428.44 L65.668 1459.06 L73.3068 1459.06 L73.3068 1463 L53.3995 1463 L53.3995 1459.06 Z\" fill=\"#000000\" fill-rule=\"evenodd\" fill-opacity=\"1\" /><path clip-path=\"url(#clip090)\" d=\"M82.7512 1457.12 L87.6354 1457.12 L87.6354 1463 L82.7512 1463 L82.7512 1457.12 Z\" fill=\"#000000\" fill-rule=\"evenodd\" fill-opacity=\"1\" /><path clip-path=\"url(#clip090)\" d=\"M107.821 1431.51 Q104.209 1431.51 102.381 1435.08 Q100.575 1438.62 100.575 1445.75 Q100.575 1452.86 102.381 1456.42 Q104.209 1459.96 107.821 1459.96 Q111.455 1459.96 113.26 1456.42 Q115.089 1452.86 115.089 1445.75 Q115.089 1438.62 113.26 1435.08 Q111.455 1431.51 107.821 1431.51 M107.821 1427.81 Q113.631 1427.81 116.686 1432.42 Q119.765 1437 119.765 1445.75 Q119.765 1454.48 116.686 1459.08 Q113.631 1463.67 107.821 1463.67 Q102.01 1463.67 98.9317 1459.08 Q95.8761 1454.48 95.8761 1445.75 Q95.8761 1437 98.9317 1432.42 Q102.01 1427.81 107.821 1427.81 Z\" fill=\"#000000\" fill-rule=\"evenodd\" fill-opacity=\"1\" /><path clip-path=\"url(#clip090)\" d=\"M54.3949 1119.63 L62.0337 1119.63 L62.0337 1093.26 L53.7236 1094.93 L53.7236 1090.67 L61.9874 1089 L66.6633 1089 L66.6633 1119.63 L74.3022 1119.63 L74.3022 1123.56 L54.3949 1123.56 L54.3949 1119.63 Z\" fill=\"#000000\" fill-rule=\"evenodd\" fill-opacity=\"1\" /><path clip-path=\"url(#clip090)\" d=\"M83.7466 1117.68 L88.6308 1117.68 L88.6308 1123.56 L83.7466 1123.56 L83.7466 1117.68 Z\" fill=\"#000000\" fill-rule=\"evenodd\" fill-opacity=\"1\" /><path clip-path=\"url(#clip090)\" d=\"M98.8622 1089 L117.219 1089 L117.219 1092.94 L103.145 1092.94 L103.145 1101.41 Q104.163 1101.06 105.182 1100.9 Q106.2 1100.71 107.219 1100.71 Q113.006 1100.71 116.385 1103.89 Q119.765 1107.06 119.765 1112.47 Q119.765 1118.05 116.293 1121.15 Q112.82 1124.23 106.501 1124.23 Q104.325 1124.23 102.057 1123.86 Q99.8113 1123.49 97.4039 1122.75 L97.4039 1118.05 Q99.4872 1119.19 101.709 1119.74 Q103.932 1120.3 106.408 1120.3 Q110.413 1120.3 112.751 1118.19 Q115.089 1116.08 115.089 1112.47 Q115.089 1108.86 112.751 1106.76 Q110.413 1104.65 106.408 1104.65 Q104.534 1104.65 102.659 1105.07 Q100.807 1105.48 98.8622 1106.36 L98.8622 1089 Z\" fill=\"#000000\" fill-rule=\"evenodd\" fill-opacity=\"1\" /><path clip-path=\"url(#clip090)\" d=\"M56.6171 780.191 L72.9365 780.191 L72.9365 784.126 L50.9921 784.126 L50.9921 780.191 Q53.6541 777.436 58.2375 772.807 Q62.8439 768.154 64.0245 766.811 Q66.2698 764.288 67.1494 762.552 Q68.0522 760.793 68.0522 759.103 Q68.0522 756.348 66.1078 754.612 Q64.1865 752.876 61.0847 752.876 Q58.8856 752.876 56.4319 753.64 Q54.0014 754.404 51.2236 755.955 L51.2236 751.233 Q54.0477 750.098 56.5014 749.52 Q58.955 748.941 60.9921 748.941 Q66.3624 748.941 69.5568 751.626 Q72.7513 754.311 72.7513 758.802 Q72.7513 760.932 71.9411 762.853 Q71.1541 764.751 69.0476 767.344 Q68.4689 768.015 65.367 771.233 Q62.2652 774.427 56.6171 780.191 Z\" fill=\"#000000\" fill-rule=\"evenodd\" fill-opacity=\"1\" /><path clip-path=\"url(#clip090)\" d=\"M82.7512 778.246 L87.6354 778.246 L87.6354 784.126 L82.7512 784.126 L82.7512 778.246 Z\" fill=\"#000000\" fill-rule=\"evenodd\" fill-opacity=\"1\" /><path clip-path=\"url(#clip090)\" d=\"M107.821 752.645 Q104.209 752.645 102.381 756.209 Q100.575 759.751 100.575 766.881 Q100.575 773.987 102.381 777.552 Q104.209 781.094 107.821 781.094 Q111.455 781.094 113.26 777.552 Q115.089 773.987 115.089 766.881 Q115.089 759.751 113.26 756.209 Q111.455 752.645 107.821 752.645 M107.821 748.941 Q113.631 748.941 116.686 753.547 Q119.765 758.131 119.765 766.881 Q119.765 775.608 116.686 780.214 Q113.631 784.797 107.821 784.797 Q102.01 784.797 98.9317 780.214 Q95.8761 775.608 95.8761 766.881 Q95.8761 758.131 98.9317 753.547 Q102.01 748.941 107.821 748.941 Z\" fill=\"#000000\" fill-rule=\"evenodd\" fill-opacity=\"1\" /><path clip-path=\"url(#clip090)\" d=\"M57.6125 440.756 L73.9318 440.756 L73.9318 444.691 L51.9875 444.691 L51.9875 440.756 Q54.6495 438.001 59.2328 433.372 Q63.8393 428.719 65.0198 427.376 Q67.2652 424.853 68.1448 423.117 Q69.0476 421.358 69.0476 419.668 Q69.0476 416.914 67.1032 415.177 Q65.1819 413.441 62.08 413.441 Q59.881 413.441 57.4273 414.205 Q54.9967 414.969 52.219 416.52 L52.219 411.798 Q55.043 410.664 57.4967 410.085 Q59.9504 409.506 61.9874 409.506 Q67.3578 409.506 70.5522 412.191 Q73.7466 414.876 73.7466 419.367 Q73.7466 421.497 72.9365 423.418 Q72.1494 425.316 70.0429 427.909 Q69.4642 428.58 66.3624 431.798 Q63.2606 434.992 57.6125 440.756 Z\" fill=\"#000000\" fill-rule=\"evenodd\" fill-opacity=\"1\" /><path clip-path=\"url(#clip090)\" d=\"M83.7466 438.812 L88.6308 438.812 L88.6308 444.691 L83.7466 444.691 L83.7466 438.812 Z\" fill=\"#000000\" fill-rule=\"evenodd\" fill-opacity=\"1\" /><path clip-path=\"url(#clip090)\" d=\"M98.8622 410.131 L117.219 410.131 L117.219 414.066 L103.145 414.066 L103.145 422.538 Q104.163 422.191 105.182 422.029 Q106.2 421.844 107.219 421.844 Q113.006 421.844 116.385 425.015 Q119.765 428.187 119.765 433.603 Q119.765 439.182 116.293 442.284 Q112.82 445.362 106.501 445.362 Q104.325 445.362 102.057 444.992 Q99.8113 444.622 97.4039 443.881 L97.4039 439.182 Q99.4872 440.316 101.709 440.872 Q103.932 441.427 106.408 441.427 Q110.413 441.427 112.751 439.321 Q115.089 437.214 115.089 433.603 Q115.089 429.992 112.751 427.886 Q110.413 425.779 106.408 425.779 Q104.534 425.779 102.659 426.196 Q100.807 426.613 98.8622 427.492 L98.8622 410.131 Z\" fill=\"#000000\" fill-rule=\"evenodd\" fill-opacity=\"1\" /><path clip-path=\"url(#clip090)\" d=\"M66.7559 86.6221 Q70.1124 87.3397 71.9874 89.6082 Q73.8855 91.8767 73.8855 95.21 Q73.8855 100.326 70.367 103.127 Q66.8485 105.928 60.3671 105.928 Q58.1912 105.928 55.8764 105.488 Q53.5847 105.071 51.131 104.215 L51.131 99.7008 Q53.0754 100.835 55.3903 101.414 Q57.7051 101.992 60.2282 101.992 Q64.6263 101.992 66.918 100.256 Q69.2328 98.5202 69.2328 95.21 Q69.2328 92.1545 67.08 90.4415 Q64.9504 88.7054 61.131 88.7054 L57.1032 88.7054 L57.1032 84.8629 L61.3161 84.8629 Q64.7652 84.8629 66.5939 83.4971 Q68.4226 82.1083 68.4226 79.5157 Q68.4226 76.8537 66.5245 75.4416 Q64.6495 74.0064 61.131 74.0064 Q59.2097 74.0064 57.0106 74.4231 Q54.8115 74.8398 52.1727 75.7194 L52.1727 71.5528 Q54.8347 70.812 57.1495 70.4416 Q59.4875 70.0713 61.5476 70.0713 Q66.8717 70.0713 69.9735 72.5018 Q73.0753 74.9092 73.0753 79.0296 Q73.0753 81.8999 71.4318 83.8907 Q69.7883 85.8582 66.7559 86.6221 Z\" fill=\"#000000\" fill-rule=\"evenodd\" fill-opacity=\"1\" /><path clip-path=\"url(#clip090)\" d=\"M82.7512 99.3767 L87.6354 99.3767 L87.6354 105.256 L82.7512 105.256 L82.7512 99.3767 Z\" fill=\"#000000\" fill-rule=\"evenodd\" fill-opacity=\"1\" /><path clip-path=\"url(#clip090)\" d=\"M107.821 73.775 Q104.209 73.775 102.381 77.3398 Q100.575 80.8814 100.575 88.011 Q100.575 95.1174 102.381 98.6822 Q104.209 102.224 107.821 102.224 Q111.455 102.224 113.26 98.6822 Q115.089 95.1174 115.089 88.011 Q115.089 80.8814 113.26 77.3398 Q111.455 73.775 107.821 73.775 M107.821 70.0713 Q113.631 70.0713 116.686 74.6777 Q119.765 79.261 119.765 88.011 Q119.765 96.7378 116.686 101.344 Q113.631 105.928 107.821 105.928 Q102.01 105.928 98.9317 101.344 Q95.8761 96.7378 95.8761 88.011 Q95.8761 79.261 98.9317 74.6777 Q102.01 70.0713 107.821 70.0713 Z\" fill=\"#000000\" fill-rule=\"evenodd\" fill-opacity=\"1\" /><circle clip-path=\"url(#clip092)\" cx=\"217.944\" cy=\"1445.72\" r=\"14.4\" fill=\"#009af9\" fill-rule=\"evenodd\" fill-opacity=\"1\" stroke=\"#000000\" stroke-opacity=\"1\" stroke-width=\"3.2\"/>\n",
       "<circle clip-path=\"url(#clip092)\" cx=\"238.88\" cy=\"1445.72\" r=\"14.4\" fill=\"#009af9\" fill-rule=\"evenodd\" fill-opacity=\"1\" stroke=\"#000000\" stroke-opacity=\"1\" stroke-width=\"3.2\"/>\n",
       "<circle clip-path=\"url(#clip092)\" cx=\"259.815\" cy=\"1445.72\" r=\"14.4\" fill=\"#009af9\" fill-rule=\"evenodd\" fill-opacity=\"1\" stroke=\"#000000\" stroke-opacity=\"1\" stroke-width=\"3.2\"/>\n",
       "<circle clip-path=\"url(#clip092)\" cx=\"280.751\" cy=\"1445.72\" r=\"14.4\" fill=\"#009af9\" fill-rule=\"evenodd\" fill-opacity=\"1\" stroke=\"#000000\" stroke-opacity=\"1\" stroke-width=\"3.2\"/>\n",
       "<circle clip-path=\"url(#clip092)\" cx=\"301.687\" cy=\"1445.72\" r=\"14.4\" fill=\"#009af9\" fill-rule=\"evenodd\" fill-opacity=\"1\" stroke=\"#000000\" stroke-opacity=\"1\" stroke-width=\"3.2\"/>\n",
       "<circle clip-path=\"url(#clip092)\" cx=\"322.622\" cy=\"1445.72\" r=\"14.4\" fill=\"#009af9\" fill-rule=\"evenodd\" fill-opacity=\"1\" stroke=\"#000000\" stroke-opacity=\"1\" stroke-width=\"3.2\"/>\n",
       "<circle clip-path=\"url(#clip092)\" cx=\"343.558\" cy=\"1445.72\" r=\"14.4\" fill=\"#009af9\" fill-rule=\"evenodd\" fill-opacity=\"1\" stroke=\"#000000\" stroke-opacity=\"1\" stroke-width=\"3.2\"/>\n",
       "<circle clip-path=\"url(#clip092)\" cx=\"364.494\" cy=\"1445.72\" r=\"14.4\" fill=\"#009af9\" fill-rule=\"evenodd\" fill-opacity=\"1\" stroke=\"#000000\" stroke-opacity=\"1\" stroke-width=\"3.2\"/>\n",
       "<circle clip-path=\"url(#clip092)\" cx=\"385.429\" cy=\"1445.72\" r=\"14.4\" fill=\"#009af9\" fill-rule=\"evenodd\" fill-opacity=\"1\" stroke=\"#000000\" stroke-opacity=\"1\" stroke-width=\"3.2\"/>\n",
       "<circle clip-path=\"url(#clip092)\" cx=\"406.365\" cy=\"1445.72\" r=\"14.4\" fill=\"#009af9\" fill-rule=\"evenodd\" fill-opacity=\"1\" stroke=\"#000000\" stroke-opacity=\"1\" stroke-width=\"3.2\"/>\n",
       "<circle clip-path=\"url(#clip092)\" cx=\"427.301\" cy=\"1445.72\" r=\"14.4\" fill=\"#009af9\" fill-rule=\"evenodd\" fill-opacity=\"1\" stroke=\"#000000\" stroke-opacity=\"1\" stroke-width=\"3.2\"/>\n",
       "<circle clip-path=\"url(#clip092)\" cx=\"448.236\" cy=\"1445.72\" r=\"14.4\" fill=\"#009af9\" fill-rule=\"evenodd\" fill-opacity=\"1\" stroke=\"#000000\" stroke-opacity=\"1\" stroke-width=\"3.2\"/>\n",
       "<circle clip-path=\"url(#clip092)\" cx=\"469.172\" cy=\"1445.72\" r=\"14.4\" fill=\"#009af9\" fill-rule=\"evenodd\" fill-opacity=\"1\" stroke=\"#000000\" stroke-opacity=\"1\" stroke-width=\"3.2\"/>\n",
       "<circle clip-path=\"url(#clip092)\" cx=\"490.108\" cy=\"1445.72\" r=\"14.4\" fill=\"#009af9\" fill-rule=\"evenodd\" fill-opacity=\"1\" stroke=\"#000000\" stroke-opacity=\"1\" stroke-width=\"3.2\"/>\n",
       "<circle clip-path=\"url(#clip092)\" cx=\"511.044\" cy=\"1445.72\" r=\"14.4\" fill=\"#009af9\" fill-rule=\"evenodd\" fill-opacity=\"1\" stroke=\"#000000\" stroke-opacity=\"1\" stroke-width=\"3.2\"/>\n",
       "<circle clip-path=\"url(#clip092)\" cx=\"531.979\" cy=\"766.846\" r=\"14.4\" fill=\"#009af9\" fill-rule=\"evenodd\" fill-opacity=\"1\" stroke=\"#000000\" stroke-opacity=\"1\" stroke-width=\"3.2\"/>\n",
       "<circle clip-path=\"url(#clip092)\" cx=\"552.915\" cy=\"766.846\" r=\"14.4\" fill=\"#009af9\" fill-rule=\"evenodd\" fill-opacity=\"1\" stroke=\"#000000\" stroke-opacity=\"1\" stroke-width=\"3.2\"/>\n",
       "<circle clip-path=\"url(#clip092)\" cx=\"573.851\" cy=\"766.846\" r=\"14.4\" fill=\"#009af9\" fill-rule=\"evenodd\" fill-opacity=\"1\" stroke=\"#000000\" stroke-opacity=\"1\" stroke-width=\"3.2\"/>\n",
       "<circle clip-path=\"url(#clip092)\" cx=\"594.786\" cy=\"766.846\" r=\"14.4\" fill=\"#009af9\" fill-rule=\"evenodd\" fill-opacity=\"1\" stroke=\"#000000\" stroke-opacity=\"1\" stroke-width=\"3.2\"/>\n",
       "<circle clip-path=\"url(#clip092)\" cx=\"615.722\" cy=\"766.846\" r=\"14.4\" fill=\"#009af9\" fill-rule=\"evenodd\" fill-opacity=\"1\" stroke=\"#000000\" stroke-opacity=\"1\" stroke-width=\"3.2\"/>\n",
       "<circle clip-path=\"url(#clip092)\" cx=\"636.658\" cy=\"766.846\" r=\"14.4\" fill=\"#009af9\" fill-rule=\"evenodd\" fill-opacity=\"1\" stroke=\"#000000\" stroke-opacity=\"1\" stroke-width=\"3.2\"/>\n",
       "<circle clip-path=\"url(#clip092)\" cx=\"657.593\" cy=\"766.846\" r=\"14.4\" fill=\"#009af9\" fill-rule=\"evenodd\" fill-opacity=\"1\" stroke=\"#000000\" stroke-opacity=\"1\" stroke-width=\"3.2\"/>\n",
       "<circle clip-path=\"url(#clip092)\" cx=\"678.529\" cy=\"766.846\" r=\"14.4\" fill=\"#009af9\" fill-rule=\"evenodd\" fill-opacity=\"1\" stroke=\"#000000\" stroke-opacity=\"1\" stroke-width=\"3.2\"/>\n",
       "<circle clip-path=\"url(#clip092)\" cx=\"699.465\" cy=\"766.846\" r=\"14.4\" fill=\"#009af9\" fill-rule=\"evenodd\" fill-opacity=\"1\" stroke=\"#000000\" stroke-opacity=\"1\" stroke-width=\"3.2\"/>\n",
       "<circle clip-path=\"url(#clip092)\" cx=\"720.4\" cy=\"766.846\" r=\"14.4\" fill=\"#009af9\" fill-rule=\"evenodd\" fill-opacity=\"1\" stroke=\"#000000\" stroke-opacity=\"1\" stroke-width=\"3.2\"/>\n",
       "<circle clip-path=\"url(#clip092)\" cx=\"741.336\" cy=\"766.846\" r=\"14.4\" fill=\"#009af9\" fill-rule=\"evenodd\" fill-opacity=\"1\" stroke=\"#000000\" stroke-opacity=\"1\" stroke-width=\"3.2\"/>\n",
       "<circle clip-path=\"url(#clip092)\" cx=\"762.272\" cy=\"766.846\" r=\"14.4\" fill=\"#009af9\" fill-rule=\"evenodd\" fill-opacity=\"1\" stroke=\"#000000\" stroke-opacity=\"1\" stroke-width=\"3.2\"/>\n",
       "<circle clip-path=\"url(#clip092)\" cx=\"783.207\" cy=\"87.9763\" r=\"14.4\" fill=\"#009af9\" fill-rule=\"evenodd\" fill-opacity=\"1\" stroke=\"#000000\" stroke-opacity=\"1\" stroke-width=\"3.2\"/>\n",
       "<circle clip-path=\"url(#clip092)\" cx=\"804.143\" cy=\"87.9763\" r=\"14.4\" fill=\"#009af9\" fill-rule=\"evenodd\" fill-opacity=\"1\" stroke=\"#000000\" stroke-opacity=\"1\" stroke-width=\"3.2\"/>\n",
       "<circle clip-path=\"url(#clip092)\" cx=\"825.079\" cy=\"87.9763\" r=\"14.4\" fill=\"#009af9\" fill-rule=\"evenodd\" fill-opacity=\"1\" stroke=\"#000000\" stroke-opacity=\"1\" stroke-width=\"3.2\"/>\n",
       "<circle clip-path=\"url(#clip092)\" cx=\"846.015\" cy=\"87.9763\" r=\"14.4\" fill=\"#009af9\" fill-rule=\"evenodd\" fill-opacity=\"1\" stroke=\"#000000\" stroke-opacity=\"1\" stroke-width=\"3.2\"/>\n",
       "<circle clip-path=\"url(#clip092)\" cx=\"866.95\" cy=\"87.9763\" r=\"14.4\" fill=\"#009af9\" fill-rule=\"evenodd\" fill-opacity=\"1\" stroke=\"#000000\" stroke-opacity=\"1\" stroke-width=\"3.2\"/>\n",
       "<circle clip-path=\"url(#clip092)\" cx=\"887.886\" cy=\"87.9763\" r=\"14.4\" fill=\"#009af9\" fill-rule=\"evenodd\" fill-opacity=\"1\" stroke=\"#000000\" stroke-opacity=\"1\" stroke-width=\"3.2\"/>\n",
       "<circle clip-path=\"url(#clip092)\" cx=\"908.822\" cy=\"87.9763\" r=\"14.4\" fill=\"#009af9\" fill-rule=\"evenodd\" fill-opacity=\"1\" stroke=\"#000000\" stroke-opacity=\"1\" stroke-width=\"3.2\"/>\n",
       "<circle clip-path=\"url(#clip092)\" cx=\"929.757\" cy=\"87.9763\" r=\"14.4\" fill=\"#009af9\" fill-rule=\"evenodd\" fill-opacity=\"1\" stroke=\"#000000\" stroke-opacity=\"1\" stroke-width=\"3.2\"/>\n",
       "<circle clip-path=\"url(#clip092)\" cx=\"950.693\" cy=\"87.9763\" r=\"14.4\" fill=\"#009af9\" fill-rule=\"evenodd\" fill-opacity=\"1\" stroke=\"#000000\" stroke-opacity=\"1\" stroke-width=\"3.2\"/>\n",
       "<circle clip-path=\"url(#clip092)\" cx=\"971.629\" cy=\"87.9763\" r=\"14.4\" fill=\"#009af9\" fill-rule=\"evenodd\" fill-opacity=\"1\" stroke=\"#000000\" stroke-opacity=\"1\" stroke-width=\"3.2\"/>\n",
       "<circle clip-path=\"url(#clip092)\" cx=\"992.564\" cy=\"87.9763\" r=\"14.4\" fill=\"#009af9\" fill-rule=\"evenodd\" fill-opacity=\"1\" stroke=\"#000000\" stroke-opacity=\"1\" stroke-width=\"3.2\"/>\n",
       "<circle clip-path=\"url(#clip092)\" cx=\"1013.5\" cy=\"87.9763\" r=\"14.4\" fill=\"#009af9\" fill-rule=\"evenodd\" fill-opacity=\"1\" stroke=\"#000000\" stroke-opacity=\"1\" stroke-width=\"3.2\"/>\n",
       "<circle clip-path=\"url(#clip092)\" cx=\"1034.44\" cy=\"87.9763\" r=\"14.4\" fill=\"#009af9\" fill-rule=\"evenodd\" fill-opacity=\"1\" stroke=\"#000000\" stroke-opacity=\"1\" stroke-width=\"3.2\"/>\n",
       "<circle clip-path=\"url(#clip092)\" cx=\"1055.37\" cy=\"87.9763\" r=\"14.4\" fill=\"#009af9\" fill-rule=\"evenodd\" fill-opacity=\"1\" stroke=\"#000000\" stroke-opacity=\"1\" stroke-width=\"3.2\"/>\n",
       "<circle clip-path=\"url(#clip092)\" cx=\"1076.31\" cy=\"87.9763\" r=\"14.4\" fill=\"#009af9\" fill-rule=\"evenodd\" fill-opacity=\"1\" stroke=\"#000000\" stroke-opacity=\"1\" stroke-width=\"3.2\"/>\n",
       "<circle clip-path=\"url(#clip092)\" cx=\"1097.24\" cy=\"87.9763\" r=\"14.4\" fill=\"#009af9\" fill-rule=\"evenodd\" fill-opacity=\"1\" stroke=\"#000000\" stroke-opacity=\"1\" stroke-width=\"3.2\"/>\n",
       "<circle clip-path=\"url(#clip092)\" cx=\"1118.18\" cy=\"87.9763\" r=\"14.4\" fill=\"#009af9\" fill-rule=\"evenodd\" fill-opacity=\"1\" stroke=\"#000000\" stroke-opacity=\"1\" stroke-width=\"3.2\"/>\n",
       "<circle clip-path=\"url(#clip092)\" cx=\"1139.11\" cy=\"87.9763\" r=\"14.4\" fill=\"#009af9\" fill-rule=\"evenodd\" fill-opacity=\"1\" stroke=\"#000000\" stroke-opacity=\"1\" stroke-width=\"3.2\"/>\n",
       "<circle clip-path=\"url(#clip092)\" cx=\"1160.05\" cy=\"87.9763\" r=\"14.4\" fill=\"#009af9\" fill-rule=\"evenodd\" fill-opacity=\"1\" stroke=\"#000000\" stroke-opacity=\"1\" stroke-width=\"3.2\"/>\n",
       "<circle clip-path=\"url(#clip092)\" cx=\"1180.99\" cy=\"87.9763\" r=\"14.4\" fill=\"#009af9\" fill-rule=\"evenodd\" fill-opacity=\"1\" stroke=\"#000000\" stroke-opacity=\"1\" stroke-width=\"3.2\"/>\n",
       "<circle clip-path=\"url(#clip092)\" cx=\"1201.92\" cy=\"87.9763\" r=\"14.4\" fill=\"#009af9\" fill-rule=\"evenodd\" fill-opacity=\"1\" stroke=\"#000000\" stroke-opacity=\"1\" stroke-width=\"3.2\"/>\n",
       "<circle clip-path=\"url(#clip092)\" cx=\"1222.86\" cy=\"87.9763\" r=\"14.4\" fill=\"#009af9\" fill-rule=\"evenodd\" fill-opacity=\"1\" stroke=\"#000000\" stroke-opacity=\"1\" stroke-width=\"3.2\"/>\n",
       "<circle clip-path=\"url(#clip092)\" cx=\"1243.79\" cy=\"87.9763\" r=\"14.4\" fill=\"#009af9\" fill-rule=\"evenodd\" fill-opacity=\"1\" stroke=\"#000000\" stroke-opacity=\"1\" stroke-width=\"3.2\"/>\n",
       "<circle clip-path=\"url(#clip092)\" cx=\"1264.73\" cy=\"87.9763\" r=\"14.4\" fill=\"#009af9\" fill-rule=\"evenodd\" fill-opacity=\"1\" stroke=\"#000000\" stroke-opacity=\"1\" stroke-width=\"3.2\"/>\n",
       "<circle clip-path=\"url(#clip092)\" cx=\"1285.66\" cy=\"87.9763\" r=\"14.4\" fill=\"#009af9\" fill-rule=\"evenodd\" fill-opacity=\"1\" stroke=\"#000000\" stroke-opacity=\"1\" stroke-width=\"3.2\"/>\n",
       "<circle clip-path=\"url(#clip092)\" cx=\"1306.6\" cy=\"87.9763\" r=\"14.4\" fill=\"#009af9\" fill-rule=\"evenodd\" fill-opacity=\"1\" stroke=\"#000000\" stroke-opacity=\"1\" stroke-width=\"3.2\"/>\n",
       "<circle clip-path=\"url(#clip092)\" cx=\"1327.54\" cy=\"87.9763\" r=\"14.4\" fill=\"#009af9\" fill-rule=\"evenodd\" fill-opacity=\"1\" stroke=\"#000000\" stroke-opacity=\"1\" stroke-width=\"3.2\"/>\n",
       "<circle clip-path=\"url(#clip092)\" cx=\"1348.47\" cy=\"87.9763\" r=\"14.4\" fill=\"#009af9\" fill-rule=\"evenodd\" fill-opacity=\"1\" stroke=\"#000000\" stroke-opacity=\"1\" stroke-width=\"3.2\"/>\n",
       "<circle clip-path=\"url(#clip092)\" cx=\"1369.41\" cy=\"1445.72\" r=\"14.4\" fill=\"#009af9\" fill-rule=\"evenodd\" fill-opacity=\"1\" stroke=\"#000000\" stroke-opacity=\"1\" stroke-width=\"3.2\"/>\n",
       "<circle clip-path=\"url(#clip092)\" cx=\"1390.34\" cy=\"1445.72\" r=\"14.4\" fill=\"#009af9\" fill-rule=\"evenodd\" fill-opacity=\"1\" stroke=\"#000000\" stroke-opacity=\"1\" stroke-width=\"3.2\"/>\n",
       "<circle clip-path=\"url(#clip092)\" cx=\"1411.28\" cy=\"1445.72\" r=\"14.4\" fill=\"#009af9\" fill-rule=\"evenodd\" fill-opacity=\"1\" stroke=\"#000000\" stroke-opacity=\"1\" stroke-width=\"3.2\"/>\n",
       "<circle clip-path=\"url(#clip092)\" cx=\"1432.21\" cy=\"1445.72\" r=\"14.4\" fill=\"#009af9\" fill-rule=\"evenodd\" fill-opacity=\"1\" stroke=\"#000000\" stroke-opacity=\"1\" stroke-width=\"3.2\"/>\n",
       "<circle clip-path=\"url(#clip092)\" cx=\"1453.15\" cy=\"1445.72\" r=\"14.4\" fill=\"#009af9\" fill-rule=\"evenodd\" fill-opacity=\"1\" stroke=\"#000000\" stroke-opacity=\"1\" stroke-width=\"3.2\"/>\n",
       "<circle clip-path=\"url(#clip092)\" cx=\"1474.09\" cy=\"766.846\" r=\"14.4\" fill=\"#009af9\" fill-rule=\"evenodd\" fill-opacity=\"1\" stroke=\"#000000\" stroke-opacity=\"1\" stroke-width=\"3.2\"/>\n",
       "<circle clip-path=\"url(#clip092)\" cx=\"1495.02\" cy=\"766.846\" r=\"14.4\" fill=\"#009af9\" fill-rule=\"evenodd\" fill-opacity=\"1\" stroke=\"#000000\" stroke-opacity=\"1\" stroke-width=\"3.2\"/>\n",
       "<circle clip-path=\"url(#clip092)\" cx=\"1515.96\" cy=\"87.9763\" r=\"14.4\" fill=\"#009af9\" fill-rule=\"evenodd\" fill-opacity=\"1\" stroke=\"#000000\" stroke-opacity=\"1\" stroke-width=\"3.2\"/>\n",
       "<circle clip-path=\"url(#clip092)\" cx=\"1536.89\" cy=\"1445.72\" r=\"14.4\" fill=\"#009af9\" fill-rule=\"evenodd\" fill-opacity=\"1\" stroke=\"#000000\" stroke-opacity=\"1\" stroke-width=\"3.2\"/>\n",
       "<circle clip-path=\"url(#clip092)\" cx=\"1557.83\" cy=\"1445.72\" r=\"14.4\" fill=\"#009af9\" fill-rule=\"evenodd\" fill-opacity=\"1\" stroke=\"#000000\" stroke-opacity=\"1\" stroke-width=\"3.2\"/>\n",
       "<circle clip-path=\"url(#clip092)\" cx=\"1578.76\" cy=\"1445.72\" r=\"14.4\" fill=\"#009af9\" fill-rule=\"evenodd\" fill-opacity=\"1\" stroke=\"#000000\" stroke-opacity=\"1\" stroke-width=\"3.2\"/>\n",
       "<circle clip-path=\"url(#clip092)\" cx=\"1599.7\" cy=\"1445.72\" r=\"14.4\" fill=\"#009af9\" fill-rule=\"evenodd\" fill-opacity=\"1\" stroke=\"#000000\" stroke-opacity=\"1\" stroke-width=\"3.2\"/>\n",
       "<circle clip-path=\"url(#clip092)\" cx=\"1620.63\" cy=\"1445.72\" r=\"14.4\" fill=\"#009af9\" fill-rule=\"evenodd\" fill-opacity=\"1\" stroke=\"#000000\" stroke-opacity=\"1\" stroke-width=\"3.2\"/>\n",
       "<circle clip-path=\"url(#clip092)\" cx=\"1641.57\" cy=\"1445.72\" r=\"14.4\" fill=\"#009af9\" fill-rule=\"evenodd\" fill-opacity=\"1\" stroke=\"#000000\" stroke-opacity=\"1\" stroke-width=\"3.2\"/>\n",
       "<circle clip-path=\"url(#clip092)\" cx=\"1662.51\" cy=\"1445.72\" r=\"14.4\" fill=\"#009af9\" fill-rule=\"evenodd\" fill-opacity=\"1\" stroke=\"#000000\" stroke-opacity=\"1\" stroke-width=\"3.2\"/>\n",
       "<circle clip-path=\"url(#clip092)\" cx=\"1683.44\" cy=\"1445.72\" r=\"14.4\" fill=\"#009af9\" fill-rule=\"evenodd\" fill-opacity=\"1\" stroke=\"#000000\" stroke-opacity=\"1\" stroke-width=\"3.2\"/>\n",
       "<circle clip-path=\"url(#clip092)\" cx=\"1704.38\" cy=\"1445.72\" r=\"14.4\" fill=\"#009af9\" fill-rule=\"evenodd\" fill-opacity=\"1\" stroke=\"#000000\" stroke-opacity=\"1\" stroke-width=\"3.2\"/>\n",
       "<circle clip-path=\"url(#clip092)\" cx=\"1725.31\" cy=\"1445.72\" r=\"14.4\" fill=\"#009af9\" fill-rule=\"evenodd\" fill-opacity=\"1\" stroke=\"#000000\" stroke-opacity=\"1\" stroke-width=\"3.2\"/>\n",
       "<circle clip-path=\"url(#clip092)\" cx=\"1746.25\" cy=\"1445.72\" r=\"14.4\" fill=\"#009af9\" fill-rule=\"evenodd\" fill-opacity=\"1\" stroke=\"#000000\" stroke-opacity=\"1\" stroke-width=\"3.2\"/>\n",
       "<circle clip-path=\"url(#clip092)\" cx=\"1767.18\" cy=\"1445.72\" r=\"14.4\" fill=\"#009af9\" fill-rule=\"evenodd\" fill-opacity=\"1\" stroke=\"#000000\" stroke-opacity=\"1\" stroke-width=\"3.2\"/>\n",
       "<circle clip-path=\"url(#clip092)\" cx=\"1788.12\" cy=\"1445.72\" r=\"14.4\" fill=\"#009af9\" fill-rule=\"evenodd\" fill-opacity=\"1\" stroke=\"#000000\" stroke-opacity=\"1\" stroke-width=\"3.2\"/>\n",
       "<circle clip-path=\"url(#clip092)\" cx=\"1809.06\" cy=\"1445.72\" r=\"14.4\" fill=\"#009af9\" fill-rule=\"evenodd\" fill-opacity=\"1\" stroke=\"#000000\" stroke-opacity=\"1\" stroke-width=\"3.2\"/>\n",
       "<circle clip-path=\"url(#clip092)\" cx=\"1829.99\" cy=\"1445.72\" r=\"14.4\" fill=\"#009af9\" fill-rule=\"evenodd\" fill-opacity=\"1\" stroke=\"#000000\" stroke-opacity=\"1\" stroke-width=\"3.2\"/>\n",
       "<circle clip-path=\"url(#clip092)\" cx=\"1850.93\" cy=\"1445.72\" r=\"14.4\" fill=\"#009af9\" fill-rule=\"evenodd\" fill-opacity=\"1\" stroke=\"#000000\" stroke-opacity=\"1\" stroke-width=\"3.2\"/>\n",
       "<circle clip-path=\"url(#clip092)\" cx=\"1871.86\" cy=\"1445.72\" r=\"14.4\" fill=\"#009af9\" fill-rule=\"evenodd\" fill-opacity=\"1\" stroke=\"#000000\" stroke-opacity=\"1\" stroke-width=\"3.2\"/>\n",
       "<circle clip-path=\"url(#clip092)\" cx=\"1892.8\" cy=\"1445.72\" r=\"14.4\" fill=\"#009af9\" fill-rule=\"evenodd\" fill-opacity=\"1\" stroke=\"#000000\" stroke-opacity=\"1\" stroke-width=\"3.2\"/>\n",
       "<circle clip-path=\"url(#clip092)\" cx=\"1913.73\" cy=\"1445.72\" r=\"14.4\" fill=\"#009af9\" fill-rule=\"evenodd\" fill-opacity=\"1\" stroke=\"#000000\" stroke-opacity=\"1\" stroke-width=\"3.2\"/>\n",
       "<circle clip-path=\"url(#clip092)\" cx=\"1934.67\" cy=\"1445.72\" r=\"14.4\" fill=\"#009af9\" fill-rule=\"evenodd\" fill-opacity=\"1\" stroke=\"#000000\" stroke-opacity=\"1\" stroke-width=\"3.2\"/>\n",
       "<circle clip-path=\"url(#clip092)\" cx=\"1955.61\" cy=\"1445.72\" r=\"14.4\" fill=\"#009af9\" fill-rule=\"evenodd\" fill-opacity=\"1\" stroke=\"#000000\" stroke-opacity=\"1\" stroke-width=\"3.2\"/>\n",
       "<circle clip-path=\"url(#clip092)\" cx=\"1976.54\" cy=\"1445.72\" r=\"14.4\" fill=\"#009af9\" fill-rule=\"evenodd\" fill-opacity=\"1\" stroke=\"#000000\" stroke-opacity=\"1\" stroke-width=\"3.2\"/>\n",
       "<circle clip-path=\"url(#clip092)\" cx=\"1997.48\" cy=\"1445.72\" r=\"14.4\" fill=\"#009af9\" fill-rule=\"evenodd\" fill-opacity=\"1\" stroke=\"#000000\" stroke-opacity=\"1\" stroke-width=\"3.2\"/>\n",
       "<circle clip-path=\"url(#clip092)\" cx=\"2018.41\" cy=\"1445.72\" r=\"14.4\" fill=\"#009af9\" fill-rule=\"evenodd\" fill-opacity=\"1\" stroke=\"#000000\" stroke-opacity=\"1\" stroke-width=\"3.2\"/>\n",
       "<circle clip-path=\"url(#clip092)\" cx=\"2039.35\" cy=\"1445.72\" r=\"14.4\" fill=\"#009af9\" fill-rule=\"evenodd\" fill-opacity=\"1\" stroke=\"#000000\" stroke-opacity=\"1\" stroke-width=\"3.2\"/>\n",
       "<circle clip-path=\"url(#clip092)\" cx=\"2060.28\" cy=\"1445.72\" r=\"14.4\" fill=\"#009af9\" fill-rule=\"evenodd\" fill-opacity=\"1\" stroke=\"#000000\" stroke-opacity=\"1\" stroke-width=\"3.2\"/>\n",
       "<circle clip-path=\"url(#clip092)\" cx=\"2081.22\" cy=\"766.846\" r=\"14.4\" fill=\"#009af9\" fill-rule=\"evenodd\" fill-opacity=\"1\" stroke=\"#000000\" stroke-opacity=\"1\" stroke-width=\"3.2\"/>\n",
       "<circle clip-path=\"url(#clip092)\" cx=\"2102.16\" cy=\"87.9763\" r=\"14.4\" fill=\"#009af9\" fill-rule=\"evenodd\" fill-opacity=\"1\" stroke=\"#000000\" stroke-opacity=\"1\" stroke-width=\"3.2\"/>\n",
       "<circle clip-path=\"url(#clip092)\" cx=\"2123.09\" cy=\"1445.72\" r=\"14.4\" fill=\"#009af9\" fill-rule=\"evenodd\" fill-opacity=\"1\" stroke=\"#000000\" stroke-opacity=\"1\" stroke-width=\"3.2\"/>\n",
       "<circle clip-path=\"url(#clip092)\" cx=\"2144.03\" cy=\"1445.72\" r=\"14.4\" fill=\"#009af9\" fill-rule=\"evenodd\" fill-opacity=\"1\" stroke=\"#000000\" stroke-opacity=\"1\" stroke-width=\"3.2\"/>\n",
       "<circle clip-path=\"url(#clip092)\" cx=\"2164.96\" cy=\"1445.72\" r=\"14.4\" fill=\"#009af9\" fill-rule=\"evenodd\" fill-opacity=\"1\" stroke=\"#000000\" stroke-opacity=\"1\" stroke-width=\"3.2\"/>\n",
       "<circle clip-path=\"url(#clip092)\" cx=\"2185.9\" cy=\"1445.72\" r=\"14.4\" fill=\"#009af9\" fill-rule=\"evenodd\" fill-opacity=\"1\" stroke=\"#000000\" stroke-opacity=\"1\" stroke-width=\"3.2\"/>\n",
       "<circle clip-path=\"url(#clip092)\" cx=\"2206.83\" cy=\"1445.72\" r=\"14.4\" fill=\"#009af9\" fill-rule=\"evenodd\" fill-opacity=\"1\" stroke=\"#000000\" stroke-opacity=\"1\" stroke-width=\"3.2\"/>\n",
       "<circle clip-path=\"url(#clip092)\" cx=\"2227.77\" cy=\"1445.72\" r=\"14.4\" fill=\"#009af9\" fill-rule=\"evenodd\" fill-opacity=\"1\" stroke=\"#000000\" stroke-opacity=\"1\" stroke-width=\"3.2\"/>\n",
       "<circle clip-path=\"url(#clip092)\" cx=\"2248.71\" cy=\"1445.72\" r=\"14.4\" fill=\"#009af9\" fill-rule=\"evenodd\" fill-opacity=\"1\" stroke=\"#000000\" stroke-opacity=\"1\" stroke-width=\"3.2\"/>\n",
       "<circle clip-path=\"url(#clip092)\" cx=\"2269.64\" cy=\"766.846\" r=\"14.4\" fill=\"#009af9\" fill-rule=\"evenodd\" fill-opacity=\"1\" stroke=\"#000000\" stroke-opacity=\"1\" stroke-width=\"3.2\"/>\n",
       "<circle clip-path=\"url(#clip092)\" cx=\"2290.58\" cy=\"766.846\" r=\"14.4\" fill=\"#009af9\" fill-rule=\"evenodd\" fill-opacity=\"1\" stroke=\"#000000\" stroke-opacity=\"1\" stroke-width=\"3.2\"/>\n",
       "<path clip-path=\"url(#clip090)\" d=\"\n",
       "M1982.98 198.898 L2279.52 198.898 L2279.52 95.2176 L1982.98 95.2176  Z\n",
       "  \" fill=\"#ffffff\" fill-rule=\"evenodd\" fill-opacity=\"1\"/>\n",
       "<polyline clip-path=\"url(#clip090)\" style=\"stroke:#000000; stroke-linecap:round; stroke-linejoin:round; stroke-width:4; stroke-opacity:1; fill:none\" points=\"\n",
       "  1982.98,198.898 2279.52,198.898 2279.52,95.2176 1982.98,95.2176 1982.98,198.898 \n",
       "  \"/>\n",
       "<circle clip-path=\"url(#clip090)\" cx=\"2080.63\" cy=\"147.058\" r=\"23.04\" fill=\"#009af9\" fill-rule=\"evenodd\" fill-opacity=\"1\" stroke=\"#000000\" stroke-opacity=\"1\" stroke-width=\"5.12\"/>\n",
       "<path clip-path=\"url(#clip090)\" d=\"M2192.11 166.745 Q2190.31 171.375 2188.59 172.787 Q2186.88 174.199 2184.01 174.199 L2180.61 174.199 L2180.61 170.634 L2183.11 170.634 Q2184.87 170.634 2185.84 169.8 Q2186.81 168.967 2187.99 165.865 L2188.76 163.921 L2178.27 138.412 L2182.78 138.412 L2190.89 158.689 L2198.99 138.412 L2203.5 138.412 L2192.11 166.745 Z\" fill=\"#000000\" fill-rule=\"evenodd\" fill-opacity=\"1\" /><path clip-path=\"url(#clip090)\" d=\"M2210.79 160.402 L2218.43 160.402 L2218.43 134.037 L2210.12 135.703 L2210.12 131.444 L2218.39 129.778 L2223.06 129.778 L2223.06 160.402 L2230.7 160.402 L2230.7 164.338 L2210.79 164.338 L2210.79 160.402 Z\" fill=\"#000000\" fill-rule=\"evenodd\" fill-opacity=\"1\" /></svg>\n"
      ]
     },
     "execution_count": 6,
     "metadata": {},
     "output_type": "execute_result"
    }
   ],
   "source": [
    "scatter(argmax.(s_data))"
   ]
  },
  {
   "cell_type": "code",
   "execution_count": 7,
   "metadata": {},
   "outputs": [
    {
     "data": {
      "text/plain": [
       "hidden_markov_model_constraints (generic function with 1 method)"
      ]
     },
     "execution_count": 7,
     "metadata": {},
     "output_type": "execute_result"
    }
   ],
   "source": [
    "# Model specification\n",
    "@model function hidden_markov_model(n)\n",
    "    \n",
    "    A ~ MatrixDirichlet(ones(3, 3)) \n",
    "    B ~ MatrixDirichlet([ 10.0 1.0 1.0; 1.0 10.0 1.0; 1.0 1.0 10.0 ])\n",
    "    \n",
    "    s_0 ~ Categorical(fill(1.0 / 3.0, 3))\n",
    "    \n",
    "    s = randomvar(n)\n",
    "    x = datavar(Vector{Float64}, n)\n",
    "    \n",
    "    s_prev = s_0\n",
    "    \n",
    "    for t in 1:n\n",
    "        s[t] ~ Transition(s_prev, A) \n",
    "        x[t] ~ Transition(s[t], B)\n",
    "        s_prev = s[t]\n",
    "    end\n",
    "    \n",
    "end\n",
    "\n",
    "@constraints function hidden_markov_model_constraints()\n",
    "    q(s_0, s, A, B) = q(s_0, s)q(A)q(B)\n",
    "end"
   ]
  },
  {
   "cell_type": "code",
   "execution_count": null,
   "metadata": {},
   "outputs": [],
   "source": [
    "idata = (x = x_data, )\n",
    "\n",
    "imodel = hidden_markov_model(N)\n",
    "\n",
    "imarginals = (\n",
    "    A = vague(MatrixDirichlet, 3, 3), \n",
    "    B = vague(MatrixDirichlet, 3, 3), \n",
    "    s = vague(Categorical, 3)\n",
    ")\n",
    "\n",
    "ireturnvars = (\n",
    "    A = KeepLast(),\n",
    "    B = KeepLast(),\n",
    "    s = KeepLast()\n",
    ")\n",
    "\n",
    "result = inference(\n",
    "    model         = imodel, \n",
    "    data          = idata,\n",
    "    constraints   = hidden_markov_model_constraints(),\n",
    "    initmarginals = imarginals, \n",
    "    returnvars    = ireturnvars, \n",
    "    iterations    = 20, \n",
    "    free_energy   = true\n",
    ");"
   ]
  },
  {
   "cell_type": "code",
   "execution_count": null,
   "metadata": {},
   "outputs": [],
   "source": [
    "mean(result.posteriors[:A])"
   ]
  },
  {
   "cell_type": "code",
   "execution_count": null,
   "metadata": {},
   "outputs": [],
   "source": [
    "mean(result.posteriors[:B])"
   ]
  },
  {
   "cell_type": "code",
   "execution_count": null,
   "metadata": {},
   "outputs": [],
   "source": [
    "p1 = scatter(argmax.(s_data), title=\"Inference results\", label = \"real\", ms = 6)\n",
    "p1 = scatter!(p1, argmax.(ReactiveMP.probvec.(result.posteriors[:s])), label = \"inferred\", ms = 2)\n",
    "p2 = plot(result.free_energy, label=\"Free energy\")\n",
    "\n",
    "plot(p1, p2, layout = @layout([ a; b ]))"
   ]
  },
  {
   "cell_type": "markdown",
   "metadata": {},
   "source": [
    "# Benchmark timings"
   ]
  },
  {
   "cell_type": "code",
   "execution_count": null,
   "metadata": {},
   "outputs": [],
   "source": [
    "@benchmark inference(\n",
    "    model         = $imodel, \n",
    "    data          = $idata,\n",
    "    constraints   = hidden_markov_model_constraints(),\n",
    "    initmarginals = $imarginals, \n",
    "    returnvars    = $ireturnvars, \n",
    "    iterations    = 20, \n",
    "    free_energy   = true\n",
    ")"
   ]
  },
  {
   "cell_type": "code",
   "execution_count": null,
   "metadata": {},
   "outputs": [],
   "source": []
  }
 ],
 "metadata": {
  "kernelspec": {
   "display_name": "Julia 1.7.2",
   "language": "julia",
   "name": "julia-1.7"
  },
  "language_info": {
   "file_extension": ".jl",
   "mimetype": "application/julia",
   "name": "julia",
   "version": "1.7.2"
  }
 },
 "nbformat": 4,
 "nbformat_minor": 4
}
