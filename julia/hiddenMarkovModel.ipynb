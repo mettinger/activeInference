{
 "cells": [
  {
   "cell_type": "markdown",
   "metadata": {},
   "source": [
    "[![Open in Colab](https://colab.research.google.com/assets/colab-badge.svg)](https://colab.research.google.com/github/mettinger/activeInference/blob/main/julia/hiddenMarkovModel.ipynb)"
   ]
  },
  {
   "cell_type": "code",
   "execution_count": null,
   "metadata": {
    "executionInfo": {
     "elapsed": 47452,
     "status": "ok",
     "timestamp": 1668165420899,
     "user": {
      "displayName": "Mark Ettinger",
      "userId": "02965304878928301951"
     },
     "user_tz": 300
    },
    "id": "PMGwZ7aFJL8Y"
   },
   "outputs": [],
   "source": [
    "# Installation cell for COLAB ONLY!!!!!\n",
    "%%capture\n",
    "%%shell\n",
    "if ! command -v julia 3>&1 > /dev/null\n",
    "then\n",
    "    wget -q 'https://julialang-s3.julialang.org/bin/linux/x64/1.7/julia-1.7.2-linux-x86_64.tar.gz' \\\n",
    "        -O /tmp/julia.tar.gz\n",
    "    tar -x -f /tmp/julia.tar.gz -C /usr/local --strip-components 1\n",
    "    rm /tmp/julia.tar.gz\n",
    "fi\n",
    "julia -e 'using Pkg; pkg\"add IJulia; precompile;\"'\n",
    "echo 'Done'"
   ]
  },
  {
   "cell_type": "markdown",
   "metadata": {
    "id": "XdMpcQduyaQc"
   },
   "source": [
    "After you run the first cell (the the cell directly above this text), go to Colab's menu bar and select **Edit** and select **Notebook settings** from the drop down. Select *Julia 1.7* in Runtime type. You can also select your prefered harwdware acceleration (defaults to GPU). \n",
    "\n",
    "<br/>Click on SAVE"
   ]
  },
  {
   "cell_type": "code",
   "execution_count": 1,
   "metadata": {
    "colab": {
     "base_uri": "https://localhost:8080/"
    },
    "executionInfo": {
     "elapsed": 1223,
     "status": "ok",
     "timestamp": 1668165445473,
     "user": {
      "displayName": "Mark Ettinger",
      "userId": "02965304878928301951"
     },
     "user_tz": 300
    },
    "id": "iIxu4TjlJnBG",
    "outputId": "6ada1062-a9df-4e52-a338-3e380f00fed5"
   },
   "outputs": [
    {
     "data": {
      "text/plain": [
       "v\"1.7.2\""
      ]
     },
     "execution_count": 1,
     "metadata": {},
     "output_type": "execute_result"
    }
   ],
   "source": [
    "VERSION"
   ]
  },
  {
   "cell_type": "code",
   "execution_count": 7,
   "metadata": {
    "colab": {
     "base_uri": "https://localhost:8080/"
    },
    "executionInfo": {
     "elapsed": 934,
     "status": "ok",
     "timestamp": 1668166464170,
     "user": {
      "displayName": "Mark Ettinger",
      "userId": "02965304878928301951"
     },
     "user_tz": 300
    },
    "id": "vHKANz2J0GDW",
    "outputId": "57d984b4-955e-443e-8501-d3d99141bb49"
   },
   "outputs": [
    {
     "name": "stderr",
     "output_type": "stream",
     "text": [
      "\u001b[32m\u001b[1m   Resolving\u001b[22m\u001b[39m package versions...\n",
      "\u001b[32m\u001b[1m  No Changes\u001b[22m\u001b[39m to `~/.julia/environments/v1.7/Project.toml`\n",
      "\u001b[32m\u001b[1m  No Changes\u001b[22m\u001b[39m to `~/.julia/environments/v1.7/Manifest.toml`\n"
     ]
    }
   ],
   "source": [
    "using Pkg\n",
    "Pkg.add([\"RxInfer\", \"Random\", \"BenchmarkTools\", \"Distributions\", \"LinearAlgebra\", \"Plots\"])"
   ]
  },
  {
   "cell_type": "code",
   "execution_count": null,
   "metadata": {
    "id": "KZKlq09jeC44"
   },
   "outputs": [],
   "source": []
  }
 ],
 "metadata": {
  "colab": {
   "collapsed_sections": [],
   "provenance": [
    {
     "file_id": "https://github.com/Dsantra92/Julia-on-Colab/blob/version%2F1.7.2/Julia_on_colab.ipynb",
     "timestamp": 1668165199033
    }
   ]
  },
  "gpuClass": "standard",
  "kernelspec": {
   "display_name": "Julia 1.7.2",
   "language": "julia",
   "name": "julia-1.7"
  },
  "language_info": {
   "file_extension": ".jl",
   "mimetype": "application/julia",
   "name": "julia",
   "version": "1.7.2"
  }
 },
 "nbformat": 4,
 "nbformat_minor": 1
}
